{
  "nbformat": 4,
  "nbformat_minor": 0,
  "metadata": {
    "colab": {
      "provenance": []
    },
    "kernelspec": {
      "name": "python3",
      "display_name": "Python 3"
    },
    "language_info": {
      "name": "python"
    }
  },
  "cells": [
    {
      "cell_type": "code",
      "execution_count": 49,
      "metadata": {
        "id": "G7Kfxoztvtf0"
      },
      "outputs": [],
      "source": [
        "import numpy as np\n",
        "\n",
        "sales_data = np.array([\n",
        "    [200, 220, 250, 210, 180, 190],  # Day 1\n",
        "    [230, 240, 260, 200, 195, 205],  # Day 2\n",
        "    [210, 215, 255, 220, 185, 200],  # Day 3\n",
        "    [205, 225, 270, 215, 190, 195],  # Day 4\n",
        "    [215, 230, 265, 225, 200, 210],  # Day 5\n",
        "    [225, 235, 275, 230, 205, 215],  # Day 6\n",
        "    [235, 245, 280, 240, 210, 220],  # Day 7\n",
        "    [245, 255, 290, 250, 215, 225],  # Day 8\n",
        "    [255, 265, 300, 260, 220, 230],  # Day 9\n",
        "    [265, 275, 310, 270, 225, 235]   # Day 10\n",
        "])\n"
      ]
    },
    {
      "cell_type": "code",
      "source": [
        "#Q1a\n",
        "total_sales = np.sum(sales_data,axis=0)\n",
        "print(\"Total Sales:\", total_sales)"
      ],
      "metadata": {
        "colab": {
          "base_uri": "https://localhost:8080/",
          "height": 0
        },
        "id": "-vCKoFeQwMar",
        "outputId": "2f10a212-77ff-44ef-fe5b-3a3ce123e21b"
      },
      "execution_count": 50,
      "outputs": [
        {
          "output_type": "stream",
          "name": "stdout",
          "text": [
            "Total Sales: [2285 2405 2755 2320 2025 2125]\n"
          ]
        }
      ]
    },
    {
      "cell_type": "code",
      "source": [
        "#Q1b\n",
        "avg_sales = np.mean(sales_data,axis=0)\n",
        "print(\"Average Sales:\", avg_sales)"
      ],
      "metadata": {
        "colab": {
          "base_uri": "https://localhost:8080/",
          "height": 0
        },
        "id": "Nh73OXgBwsMo",
        "outputId": "d3fad873-072d-468c-f40b-3b5ff7d50e45"
      },
      "execution_count": 51,
      "outputs": [
        {
          "output_type": "stream",
          "name": "stdout",
          "text": [
            "Average Sales: [228.5 240.5 275.5 232.  202.5 212.5]\n"
          ]
        }
      ]
    },
    {
      "cell_type": "code",
      "source": [
        "#Q1c\n",
        "commision=sales_data*0.05\n",
        "print(\"Commision:\", commision)"
      ],
      "metadata": {
        "colab": {
          "base_uri": "https://localhost:8080/",
          "height": 0
        },
        "id": "20X3nwkHxMQc",
        "outputId": "dea15a00-8a55-456c-f8c5-6420554a0c3d"
      },
      "execution_count": 52,
      "outputs": [
        {
          "output_type": "stream",
          "name": "stdout",
          "text": [
            "Commision: [[10.   11.   12.5  10.5   9.    9.5 ]\n",
            " [11.5  12.   13.   10.    9.75 10.25]\n",
            " [10.5  10.75 12.75 11.    9.25 10.  ]\n",
            " [10.25 11.25 13.5  10.75  9.5   9.75]\n",
            " [10.75 11.5  13.25 11.25 10.   10.5 ]\n",
            " [11.25 11.75 13.75 11.5  10.25 10.75]\n",
            " [11.75 12.25 14.   12.   10.5  11.  ]\n",
            " [12.25 12.75 14.5  12.5  10.75 11.25]\n",
            " [12.75 13.25 15.   13.   11.   11.5 ]\n",
            " [13.25 13.75 15.5  13.5  11.25 11.75]]\n"
          ]
        }
      ]
    },
    {
      "cell_type": "code",
      "source": [
        "#Q1d\n",
        "squareroot=sales_data**0.5\n",
        "print(\"Square Root:\", squareroot)"
      ],
      "metadata": {
        "colab": {
          "base_uri": "https://localhost:8080/",
          "height": 0
        },
        "id": "RbrYs1rexMGA",
        "outputId": "f448e5f0-ae85-46cd-e29d-dcc2fbb29557"
      },
      "execution_count": 53,
      "outputs": [
        {
          "output_type": "stream",
          "name": "stdout",
          "text": [
            "Square Root: [[14.14213562 14.83239697 15.8113883  14.49137675 13.41640786 13.78404875]\n",
            " [15.16575089 15.49193338 16.1245155  14.14213562 13.96424004 14.31782106]\n",
            " [14.49137675 14.6628783  15.96871942 14.83239697 13.60147051 14.14213562]\n",
            " [14.31782106 15.         16.43167673 14.6628783  13.78404875 13.96424004]\n",
            " [14.6628783  15.16575089 16.2788206  15.         14.14213562 14.49137675]\n",
            " [15.         15.32970972 16.58312395 15.16575089 14.31782106 14.6628783 ]\n",
            " [15.32970972 15.65247584 16.73320053 15.49193338 14.49137675 14.83239697]\n",
            " [15.65247584 15.96871942 17.02938637 15.8113883  14.6628783  15.        ]\n",
            " [15.96871942 16.2788206  17.32050808 16.1245155  14.83239697 15.16575089]\n",
            " [16.2788206  16.58312395 17.60681686 16.43167673 15.         15.32970972]]\n"
          ]
        }
      ]
    },
    {
      "cell_type": "code",
      "source": [
        "#Q2a\n",
        "bonus_array = np.array([10, 20, 15, 25, 30, 5])\n",
        "bonus_added = sales_data + bonus_array\n",
        "print(\"Bonus Added:\", bonus_added)"
      ],
      "metadata": {
        "colab": {
          "base_uri": "https://localhost:8080/",
          "height": 0
        },
        "id": "oaLaXar4y9hS",
        "outputId": "f3837d0a-2718-42bd-f931-774b797243b9"
      },
      "execution_count": 54,
      "outputs": [
        {
          "output_type": "stream",
          "name": "stdout",
          "text": [
            "Bonus Added: [[210 240 265 235 210 195]\n",
            " [240 260 275 225 225 210]\n",
            " [220 235 270 245 215 205]\n",
            " [215 245 285 240 220 200]\n",
            " [225 250 280 250 230 215]\n",
            " [235 255 290 255 235 220]\n",
            " [245 265 295 265 240 225]\n",
            " [255 275 305 275 245 230]\n",
            " [265 285 315 285 250 235]\n",
            " [275 295 325 295 255 240]]\n"
          ]
        }
      ]
    },
    {
      "cell_type": "code",
      "source": [
        "#Q2b\n",
        "bonus = sales_data + 50\n",
        "print(\"Bonus:\", bonus)"
      ],
      "metadata": {
        "colab": {
          "base_uri": "https://localhost:8080/",
          "height": 0
        },
        "id": "oGoYQozEzQUR",
        "outputId": "90d9dedf-1c85-486e-d13b-8265699d1c94"
      },
      "execution_count": 55,
      "outputs": [
        {
          "output_type": "stream",
          "name": "stdout",
          "text": [
            "Bonus: [[250 270 300 260 230 240]\n",
            " [280 290 310 250 245 255]\n",
            " [260 265 305 270 235 250]\n",
            " [255 275 320 265 240 245]\n",
            " [265 280 315 275 250 260]\n",
            " [275 285 325 280 255 265]\n",
            " [285 295 330 290 260 270]\n",
            " [295 305 340 300 265 275]\n",
            " [305 315 350 310 270 280]\n",
            " [315 325 360 320 275 285]]\n"
          ]
        }
      ]
    },
    {
      "cell_type": "code",
      "source": [
        "#Q3a\n",
        "np.mean(sales_data)"
      ],
      "metadata": {
        "colab": {
          "base_uri": "https://localhost:8080/",
          "height": 0
        },
        "id": "xtsX-qK9zkt_",
        "outputId": "fffed289-beb1-4bbc-94f3-f2b3f3c32524"
      },
      "execution_count": 56,
      "outputs": [
        {
          "output_type": "execute_result",
          "data": {
            "text/plain": [
              "np.float64(231.91666666666666)"
            ]
          },
          "metadata": {},
          "execution_count": 56
        }
      ]
    },
    {
      "cell_type": "code",
      "source": [
        "np.median(sales_data)"
      ],
      "metadata": {
        "colab": {
          "base_uri": "https://localhost:8080/",
          "height": 0
        },
        "id": "jNsOt6d-zkkp",
        "outputId": "64207a59-e745-40f0-f47e-5de42d0275fb"
      },
      "execution_count": 57,
      "outputs": [
        {
          "output_type": "execute_result",
          "data": {
            "text/plain": [
              "np.float64(225.0)"
            ]
          },
          "metadata": {},
          "execution_count": 57
        }
      ]
    },
    {
      "cell_type": "code",
      "source": [
        "np.var(sales_data)"
      ],
      "metadata": {
        "colab": {
          "base_uri": "https://localhost:8080/",
          "height": 0
        },
        "id": "EC11lnC2zy6W",
        "outputId": "747d057f-f675-46ba-ea9e-3d78c744613b"
      },
      "execution_count": 58,
      "outputs": [
        {
          "output_type": "execute_result",
          "data": {
            "text/plain": [
              "np.float64(870.0763888888889)"
            ]
          },
          "metadata": {},
          "execution_count": 58
        }
      ]
    },
    {
      "cell_type": "code",
      "source": [
        "np.std(sales_data)"
      ],
      "metadata": {
        "colab": {
          "base_uri": "https://localhost:8080/",
          "height": 0
        },
        "id": "HE3Dft1lz5ed",
        "outputId": "878e8137-925e-4a59-bb1c-44fa82a07a9e"
      },
      "execution_count": 59,
      "outputs": [
        {
          "output_type": "execute_result",
          "data": {
            "text/plain": [
              "np.float64(29.49705729202303)"
            ]
          },
          "metadata": {},
          "execution_count": 59
        }
      ]
    },
    {
      "cell_type": "code",
      "source": [
        "#Q3b\n",
        "max=np.max(sales_data)\n",
        "print(max)"
      ],
      "metadata": {
        "colab": {
          "base_uri": "https://localhost:8080/",
          "height": 0
        },
        "id": "qVDtofiuz_0z",
        "outputId": "5e52476e-dbb1-4155-ce6d-b57b0341a750"
      },
      "execution_count": 60,
      "outputs": [
        {
          "output_type": "stream",
          "name": "stdout",
          "text": [
            "310\n"
          ]
        }
      ]
    },
    {
      "cell_type": "code",
      "source": [
        "min=np.min(sales_data)\n",
        "print(min)"
      ],
      "metadata": {
        "colab": {
          "base_uri": "https://localhost:8080/",
          "height": 0
        },
        "id": "6MyrkYnv0GfS",
        "outputId": "cb55b4b5-e89c-47e2-ee9b-b73172b2a86e"
      },
      "execution_count": 61,
      "outputs": [
        {
          "output_type": "stream",
          "name": "stdout",
          "text": [
            "180\n"
          ]
        }
      ]
    },
    {
      "cell_type": "code",
      "source": [
        "print(max-min)"
      ],
      "metadata": {
        "colab": {
          "base_uri": "https://localhost:8080/",
          "height": 0
        },
        "id": "K8sFyun_0GWH",
        "outputId": "fac32f60-2c2d-4ee9-d87c-5d9301b38291"
      },
      "execution_count": 62,
      "outputs": [
        {
          "output_type": "stream",
          "name": "stdout",
          "text": [
            "130\n"
          ]
        }
      ]
    },
    {
      "cell_type": "code",
      "source": [
        "#Q3c\n",
        "lower_quartile = np.percentile(sales_data,25)\n",
        "upper_quartile = np.percentile(sales_data,75)\n",
        "iqr=upper_quartile-lower_quartile\n",
        "print(iqr)"
      ],
      "metadata": {
        "colab": {
          "base_uri": "https://localhost:8080/",
          "height": 0
        },
        "id": "iMxYemT700_7",
        "outputId": "87fa0636-204c-41d9-e276-26eeaba0eb6c"
      },
      "execution_count": 63,
      "outputs": [
        {
          "output_type": "stream",
          "name": "stdout",
          "text": [
            "45.0\n"
          ]
        }
      ]
    },
    {
      "cell_type": "code",
      "source": [
        "#Q4a\n",
        "sales_data[sales_data>250]"
      ],
      "metadata": {
        "id": "LQm37fix1FQg"
      },
      "execution_count": 64,
      "outputs": []
    },
    {
      "cell_type": "code",
      "source": [
        "#Q4b\n",
        "sales_data[sales_data>300]=300\n",
        "print(sales_data)"
      ],
      "metadata": {
        "colab": {
          "base_uri": "https://localhost:8080/",
          "height": 0
        },
        "id": "Z72PiPVt1aF0",
        "outputId": "a4ab3a6e-94db-4504-b11f-f5a1f6b02e5c"
      },
      "execution_count": 69,
      "outputs": [
        {
          "output_type": "stream",
          "name": "stdout",
          "text": [
            "[[200 220 250 210 180 190]\n",
            " [230 240 260 200 195 205]\n",
            " [210 215 255 220 185 200]\n",
            " [205 225 270 215 190 195]\n",
            " [215 230 265 225 200 210]\n",
            " [225 235 275 230 205 215]\n",
            " [235 245 280 240 210 220]\n",
            " [245 255 290 250 215 225]\n",
            " [255 265 300 260 220 230]\n",
            " [265 275 300 270 225 235]]\n"
          ]
        }
      ]
    },
    {
      "cell_type": "code",
      "source": [
        "#Q4c\n",
        "cnt = np.sum((sales_data>200) & (sales_data<250))\n",
        "print(cnt)"
      ],
      "metadata": {
        "colab": {
          "base_uri": "https://localhost:8080/",
          "height": 0
        },
        "id": "qpsCfwCd3VzN",
        "outputId": "784ae359-fbba-487a-b372-a0237ad524c4"
      },
      "execution_count": 74,
      "outputs": [
        {
          "output_type": "stream",
          "name": "stdout",
          "text": [
            "32\n"
          ]
        }
      ]
    },
    {
      "cell_type": "code",
      "source": [
        "#Q4d\n",
        "a=sales_data[sales_data < np.mean(sales_data)]\n",
        "print(a)"
      ],
      "metadata": {
        "colab": {
          "base_uri": "https://localhost:8080/",
          "height": 0
        },
        "id": "1aZUdena4F8c",
        "outputId": "7fa51464-8747-4a10-c2e0-f204debe20fa"
      },
      "execution_count": 76,
      "outputs": [
        {
          "output_type": "stream",
          "name": "stdout",
          "text": [
            "[200 220 210 180 190 230 200 195 205 210 215 220 185 200 205 225 215 190\n",
            " 195 215 230 225 200 210 225 230 205 215 210 220 215 225 220 230 225]\n"
          ]
        }
      ]
    },
    {
      "cell_type": "code",
      "source": [
        "sales_data = np.array([\n",
        "    [200, 220, 250, 210, 180, 190],  # Day 1\n",
        "    [230, 240, 260, 200, 195, 205],  # Day 2\n",
        "    [210, 215, 255, 220, 185, 200],  # Day 3\n",
        "    [205, 225, 270, 215, 190, 195],  # Day 4\n",
        "    [215, 230, 265, 225, 200, 210],  # Day 5\n",
        "    [225, 235, 275, 230, 205, 215],  # Day 6\n",
        "    [235, 245, 280, 240, 210, 220],  # Day 7\n",
        "    [245, 255, 290, 250, 215, 225],  # Day 8\n",
        "    [255, 265, 300, 260, 220, 230],  # Day 9\n",
        "    [265, 275, 310, 270, 225, 235]   # Day 10\n",
        "])"
      ],
      "metadata": {
        "id": "6p_ONnFJ4ghn"
      },
      "execution_count": 77,
      "outputs": []
    },
    {
      "cell_type": "code",
      "source": [
        "#Q5a\n",
        "np.sort(sales_data[4,::])"
      ],
      "metadata": {
        "colab": {
          "base_uri": "https://localhost:8080/",
          "height": 0
        },
        "id": "aRuxNrhJ43mP",
        "outputId": "e85c8a52-7dc7-4de9-da38-f64b35b30402"
      },
      "execution_count": 78,
      "outputs": [
        {
          "output_type": "execute_result",
          "data": {
            "text/plain": [
              "array([200, 210, 215, 225, 230, 265])"
            ]
          },
          "metadata": {},
          "execution_count": 78
        }
      ]
    },
    {
      "cell_type": "code",
      "source": [
        "#Q5b\n",
        "highest=np.argmax(np.sum(sales_data,axis=1))\n",
        "print(highest)"
      ],
      "metadata": {
        "colab": {
          "base_uri": "https://localhost:8080/",
          "height": 0
        },
        "id": "UDsWih-L5ENk",
        "outputId": "abd40ad9-6dcb-497b-8666-73ac3f5eda17"
      },
      "execution_count": 84,
      "outputs": [
        {
          "output_type": "stream",
          "name": "stdout",
          "text": [
            "9\n"
          ]
        }
      ]
    },
    {
      "cell_type": "code",
      "source": [
        "#Q5c\n",
        "np.mean(sales_data,axis=0)"
      ],
      "metadata": {
        "colab": {
          "base_uri": "https://localhost:8080/",
          "height": 0
        },
        "id": "OXUxSg155EBB",
        "outputId": "db424528-0a9c-4b2f-b4bc-669e7ccc0c41"
      },
      "execution_count": 85,
      "outputs": [
        {
          "output_type": "execute_result",
          "data": {
            "text/plain": [
              "array([228.5, 240.5, 275.5, 232. , 202.5, 212.5])"
            ]
          },
          "metadata": {},
          "execution_count": 85
        }
      ]
    },
    {
      "cell_type": "code",
      "source": [
        "#Q5d\n",
        "np.mean(sales_data,axis=1)"
      ],
      "metadata": {
        "colab": {
          "base_uri": "https://localhost:8080/",
          "height": 0
        },
        "id": "ebeZ6X3_6i5d",
        "outputId": "f6e75443-4420-479a-cba9-6aca388cb05d"
      },
      "execution_count": 86,
      "outputs": [
        {
          "output_type": "execute_result",
          "data": {
            "text/plain": [
              "array([208.33333333, 221.66666667, 214.16666667, 216.66666667,\n",
              "       224.16666667, 230.83333333, 238.33333333, 246.66666667,\n",
              "       255.        , 263.33333333])"
            ]
          },
          "metadata": {},
          "execution_count": 86
        }
      ]
    },
    {
      "cell_type": "code",
      "source": [
        "#Q5e\n",
        "np.mean(sales_data)"
      ],
      "metadata": {
        "colab": {
          "base_uri": "https://localhost:8080/",
          "height": 0
        },
        "id": "fl1wbFny6rYf",
        "outputId": "2c6027cf-d2ce-4001-991a-4ba57e0357ba"
      },
      "execution_count": 88,
      "outputs": [
        {
          "output_type": "execute_result",
          "data": {
            "text/plain": [
              "np.float64(231.91666666666666)"
            ]
          },
          "metadata": {},
          "execution_count": 88
        }
      ]
    },
    {
      "cell_type": "code",
      "source": [
        "#Q6\n",
        "def func(sales_data):\n",
        "  return sales_data[(sales_data>np.mean(sales_data)+2*np.std(sales_data)) | (sales_data<np.mean(sales_data)-2*np.std(sales_data))]\n",
        "\n",
        "func(sales_data)"
      ],
      "metadata": {
        "colab": {
          "base_uri": "https://localhost:8080/",
          "height": 0
        },
        "id": "NuBTjLyW7Bi-",
        "outputId": "940f2f87-af23-4df6-9a80-e5eae0dc234e"
      },
      "execution_count": 95,
      "outputs": [
        {
          "output_type": "execute_result",
          "data": {
            "text/plain": [
              "array([300, 310])"
            ]
          },
          "metadata": {},
          "execution_count": 95
        }
      ]
    }
  ]
}